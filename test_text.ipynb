{
 "cells": [
  {
   "cell_type": "code",
   "execution_count": 1,
   "id": "099021bf",
   "metadata": {},
   "outputs": [],
   "source": [
    "import io\n",
    "import os\n",
    "import re\n",
    "import shutil\n",
    "import string\n",
    "import tensorflow as tf"
   ]
  },
  {
   "cell_type": "code",
   "execution_count": 2,
   "id": "b5b54f88",
   "metadata": {},
   "outputs": [],
   "source": [
    "url = \"https://ai.stanford.edu/~amaas/data/sentiment/aclImdb_v1.tar.gz\"\n",
    "dataset = tf.keras.utils.get_file(\"aclImdb_v1.tar.gz\", url,untar=True) # untar = true so it untar to florder ~/.keras/datasets/aclImdb"
   ]
  },
  {
   "cell_type": "code",
   "execution_count": 3,
   "id": "6c3b3c8d",
   "metadata": {},
   "outputs": [],
   "source": [
    "dataset_dir = os.path.join(os.path.dirname(dataset), 'aclImdb')\n",
    "train_dir = os.path.join(os.path.join(dataset_dir),'train')\n",
    "remove_dir = os.path.join(train_dir, 'unsup')\n",
    "shutil.rmtree(remove_dir)"
   ]
  },
  {
   "cell_type": "code",
   "execution_count": 4,
   "id": "e914266d",
   "metadata": {},
   "outputs": [
    {
     "name": "stdout",
     "output_type": "stream",
     "text": [
      "Found 25000 files belonging to 2 classes.\n",
      "Using 20000 files for training.\n",
      "Found 25000 files belonging to 2 classes.\n",
      "Using 5000 files for validation.\n"
     ]
    }
   ],
   "source": [
    "batch_size = 1024\n",
    "seed = 123\n",
    "train_ds = tf.keras.utils.text_dataset_from_directory(train_dir,batch_size=batch_size,validation_split=0.2,subset='training',seed=seed)\n",
    "val_ds = tf.keras.utils.text_dataset_from_directory(train_dir,batch_size=batch_size,validation_split=0.2,subset='validation',seed=seed)\n",
    "train_ds = train_ds.cache().prefetch(buffer_size=tf.data.AUTOTUNE)\n",
    "val_ds = val_ds.cache().prefetch(buffer_size=tf.data.AUTOTUNE)"
   ]
  },
  {
   "cell_type": "code",
   "execution_count": 5,
   "id": "9b2f58e3",
   "metadata": {},
   "outputs": [],
   "source": [
    "def custom_standardization(input_data):\n",
    "  lowercase = tf.strings.lower(input_data)\n",
    "  stripped_html = tf.strings.regex_replace(lowercase, '<br />', ' ')\n",
    "  return tf.strings.regex_replace(stripped_html,\n",
    "                                  '[%s]' % re.escape(string.punctuation), '')"
   ]
  },
  {
   "cell_type": "code",
   "execution_count": 6,
   "id": "b55bdaa8",
   "metadata": {},
   "outputs": [],
   "source": [
    "vocab_size = 10000\n",
    "seque_len = 100\n",
    "embedding_dim = 16\n",
    "text_layer = tf.keras.layers.TextVectorization(max_tokens=vocab_size,standardize='lower_and_strip_punctuation',output_mode='int',output_sequence_length=seque_len)\n",
    "text_ds = train_ds.map(lambda x,y: x)\n",
    "text_layer.adapt(text_ds)\n",
    "model = tf.keras.Sequential([\n",
    "    text_layer,\n",
    "    tf.keras.layers.Embedding(vocab_size, embedding_dim, name=\"embedding\"),\n",
    "    tf.keras.layers.GlobalAveragePooling1D(),\n",
    "    tf.keras.layers.Dense(16, activation='relu'),\n",
    "    tf.keras.layers.Dense(2)\n",
    "])"
   ]
  },
  {
   "cell_type": "code",
   "execution_count": 7,
   "id": "f8d7b559",
   "metadata": {},
   "outputs": [
    {
     "name": "stdout",
     "output_type": "stream",
     "text": [
      "Epoch 1/20\n",
      "20/20 [==============================] - 3s 142ms/step - loss: 0.6920 - accuracy: 0.5958 - val_loss: 0.6898 - val_accuracy: 0.6692\n",
      "Epoch 2/20\n",
      "20/20 [==============================] - 2s 85ms/step - loss: 0.6869 - accuracy: 0.6740 - val_loss: 0.6831 - val_accuracy: 0.7012\n",
      "Epoch 3/20\n",
      "20/20 [==============================] - 2s 85ms/step - loss: 0.6782 - accuracy: 0.7003 - val_loss: 0.6721 - val_accuracy: 0.7106\n",
      "Epoch 4/20\n",
      "20/20 [==============================] - 2s 82ms/step - loss: 0.6642 - accuracy: 0.7182 - val_loss: 0.6558 - val_accuracy: 0.7208\n",
      "Epoch 5/20\n",
      "20/20 [==============================] - 2s 82ms/step - loss: 0.6439 - accuracy: 0.7387 - val_loss: 0.6336 - val_accuracy: 0.7356\n",
      "Epoch 6/20\n",
      "20/20 [==============================] - 2s 80ms/step - loss: 0.6159 - accuracy: 0.7611 - val_loss: 0.6043 - val_accuracy: 0.7516\n",
      "Epoch 7/20\n",
      "20/20 [==============================] - 2s 81ms/step - loss: 0.5804 - accuracy: 0.7818 - val_loss: 0.5707 - val_accuracy: 0.7708\n",
      "Epoch 8/20\n",
      "20/20 [==============================] - 2s 91ms/step - loss: 0.5408 - accuracy: 0.7994 - val_loss: 0.5362 - val_accuracy: 0.7820\n",
      "Epoch 9/20\n",
      "20/20 [==============================] - 2s 85ms/step - loss: 0.5009 - accuracy: 0.8137 - val_loss: 0.5043 - val_accuracy: 0.7946\n",
      "Epoch 10/20\n",
      "20/20 [==============================] - 2s 90ms/step - loss: 0.4638 - accuracy: 0.8259 - val_loss: 0.4770 - val_accuracy: 0.8050\n",
      "Epoch 11/20\n",
      "20/20 [==============================] - 2s 82ms/step - loss: 0.4311 - accuracy: 0.8361 - val_loss: 0.4546 - val_accuracy: 0.8118\n",
      "Epoch 12/20\n",
      "20/20 [==============================] - 2s 85ms/step - loss: 0.4029 - accuracy: 0.8438 - val_loss: 0.4367 - val_accuracy: 0.8138\n",
      "Epoch 13/20\n",
      "20/20 [==============================] - 2s 79ms/step - loss: 0.3786 - accuracy: 0.8527 - val_loss: 0.4225 - val_accuracy: 0.8178\n",
      "Epoch 14/20\n",
      "20/20 [==============================] - 2s 82ms/step - loss: 0.3576 - accuracy: 0.8609 - val_loss: 0.4113 - val_accuracy: 0.8218\n",
      "Epoch 15/20\n",
      "20/20 [==============================] - 2s 84ms/step - loss: 0.3391 - accuracy: 0.8690 - val_loss: 0.4025 - val_accuracy: 0.8246\n",
      "Epoch 16/20\n",
      "20/20 [==============================] - 2s 94ms/step - loss: 0.3228 - accuracy: 0.8759 - val_loss: 0.3956 - val_accuracy: 0.8250\n",
      "Epoch 17/20\n",
      "20/20 [==============================] - 2s 102ms/step - loss: 0.3081 - accuracy: 0.8815 - val_loss: 0.3904 - val_accuracy: 0.8288\n",
      "Epoch 18/20\n",
      "20/20 [==============================] - 2s 87ms/step - loss: 0.2948 - accuracy: 0.8860 - val_loss: 0.3866 - val_accuracy: 0.8302\n",
      "Epoch 19/20\n",
      "20/20 [==============================] - 2s 87ms/step - loss: 0.2828 - accuracy: 0.8915 - val_loss: 0.3839 - val_accuracy: 0.8310\n",
      "Epoch 20/20\n",
      "20/20 [==============================] - 2s 91ms/step - loss: 0.2717 - accuracy: 0.8964 - val_loss: 0.3823 - val_accuracy: 0.8340\n"
     ]
    },
    {
     "data": {
      "text/plain": [
       "<keras.callbacks.History at 0x7f335d226d68>"
      ]
     },
     "execution_count": 7,
     "metadata": {},
     "output_type": "execute_result"
    }
   ],
   "source": [
    "model.compile(optimizer='adam',\n",
    "              loss=tf.keras.losses.SparseCategoricalCrossentropy(from_logits=True),\n",
    "              metrics=['accuracy'])\n",
    "model.fit(train_ds,validation_data=val_ds,epochs=20)"
   ]
  },
  {
   "cell_type": "code",
   "execution_count": 17,
   "id": "6fcab862",
   "metadata": {},
   "outputs": [],
   "source": [
    "weights = model.get_layer('embedding').get_weights()[0]\n",
    "vocab = text_layer.get_vocabulary()\n",
    "out_v = io.open('vectors.tsv', 'w', encoding='utf-8')\n",
    "out_m = io.open('metadata.tsv', 'w', encoding='utf-8')\n",
    "for index, word in enumerate(vocab):\n",
    "  if index == 0:\n",
    "    continue  # skip 0, it's padding.\n",
    "  vec = weights[index]\n",
    "  out_v.write('\\t'.join([str(x) for x in vec]) + \"\\n\")\n",
    "  out_m.write(word + \"\\n\")\n",
    "out_v.close()\n",
    "out_m.close()"
   ]
  },
  {
   "cell_type": "code",
   "execution_count": null,
   "id": "6382a52f",
   "metadata": {},
   "outputs": [],
   "source": []
  }
 ],
 "metadata": {
  "kernelspec": {
   "display_name": "Python 3",
   "language": "python",
   "name": "python3"
  },
  "language_info": {
   "codemirror_mode": {
    "name": "ipython",
    "version": 3
   },
   "file_extension": ".py",
   "mimetype": "text/x-python",
   "name": "python",
   "nbconvert_exporter": "python",
   "pygments_lexer": "ipython3",
   "version": "3.6.8"
  }
 },
 "nbformat": 4,
 "nbformat_minor": 5
}
