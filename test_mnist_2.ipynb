{
 "cells": [
  {
   "cell_type": "code",
   "execution_count": 1,
   "id": "8d61100c",
   "metadata": {},
   "outputs": [],
   "source": [
    "import tensorflow as tf\n",
    "from tensorflow.keras import layers,models\n",
    "import numpy as np\n",
    "import matplotlib.pyplot as plt"
   ]
  },
  {
   "cell_type": "code",
   "execution_count": 2,
   "id": "ecf2e5a1",
   "metadata": {},
   "outputs": [],
   "source": [
    "mnist = tf.keras.datasets.mnist\n",
    "(x_train,y_train),(x_test,y_test) = mnist.load_data()\n",
    "x_train,x_test = x_train/255,x_test/255\n",
    "x_train = np.expand_dims(x_train,3)\n",
    "x_test = np.expand_dims(x_test,3)"
   ]
  },
  {
   "cell_type": "code",
   "execution_count": 3,
   "id": "43b6b6b3",
   "metadata": {},
   "outputs": [
    {
     "data": {
      "text/plain": [
       "(60000, 28, 28, 1)"
      ]
     },
     "execution_count": 3,
     "metadata": {},
     "output_type": "execute_result"
    }
   ],
   "source": [
    "x_train.shape"
   ]
  },
  {
   "cell_type": "code",
   "execution_count": 4,
   "id": "2d9249a5",
   "metadata": {},
   "outputs": [],
   "source": [
    "model = models.Sequential()\n",
    "model.add(layers.Conv2D(32,(3,3),activation='relu',input_shape=(28,28,1)))\n",
    "model.add(layers.MaxPooling2D((2,2)))\n",
    "model.add(layers.Conv2D(64,(3,3),activation='relu'))\n",
    "model.add(layers.MaxPooling2D((2,2)))\n",
    "model.add(layers.Conv2D(64,(3,3),activation='relu'))\n",
    "model.add(layers.Flatten())\n",
    "model.add(layers.Dense(64,activation='relu'))\n",
    "model.add(layers.Dense(10))\n",
    "# model.summary()"
   ]
  },
  {
   "cell_type": "code",
   "execution_count": 5,
   "id": "2c24c045",
   "metadata": {},
   "outputs": [
    {
     "name": "stdout",
     "output_type": "stream",
     "text": [
      "Epoch 1/5\n",
      "1875/1875 [==============================] - 72s 38ms/step - loss: 0.1424 - sparse_categorical_accuracy: 0.9561 - val_loss: 0.0527 - val_sparse_categorical_accuracy: 0.9821\n",
      "Epoch 2/5\n",
      "1875/1875 [==============================] - 70s 38ms/step - loss: 0.0441 - sparse_categorical_accuracy: 0.9865 - val_loss: 0.0326 - val_sparse_categorical_accuracy: 0.9894\n",
      "Epoch 3/5\n",
      "1875/1875 [==============================] - 62s 33ms/step - loss: 0.0317 - sparse_categorical_accuracy: 0.9901 - val_loss: 0.0434 - val_sparse_categorical_accuracy: 0.9864\n",
      "Epoch 4/5\n",
      "1875/1875 [==============================] - 62s 33ms/step - loss: 0.0243 - sparse_categorical_accuracy: 0.9922 - val_loss: 0.0378 - val_sparse_categorical_accuracy: 0.9877\n",
      "Epoch 5/5\n",
      "1875/1875 [==============================] - 59s 31ms/step - loss: 0.0201 - sparse_categorical_accuracy: 0.9939 - val_loss: 0.0303 - val_sparse_categorical_accuracy: 0.9899\n",
      "313/313 - 2s - loss: 0.0303 - sparse_categorical_accuracy: 0.9899\n"
     ]
    },
    {
     "data": {
      "text/plain": [
       "[0.03034098446369171, 0.9898999929428101]"
      ]
     },
     "execution_count": 5,
     "metadata": {},
     "output_type": "execute_result"
    }
   ],
   "source": [
    "model.compile(optimizer='adam',\n",
    "             loss=tf.keras.losses.SparseCategoricalCrossentropy(True),\n",
    "             metrics=[tf.keras.metrics.SparseCategoricalAccuracy()]\n",
    "             )\n",
    "history = model.fit(x_train,y_train,batch_size=32,epochs=5,validation_data=(x_test,y_test))\n",
    "model.evaluate(x_test,y_test,verbose=2)"
   ]
  },
  {
   "cell_type": "code",
   "execution_count": 6,
   "id": "23a21288",
   "metadata": {},
   "outputs": [
    {
     "data": {
      "text/plain": [
       "{'loss': [0.14242273569107056,\n",
       "  0.04413212835788727,\n",
       "  0.03170007839798927,\n",
       "  0.024270232766866684,\n",
       "  0.020133689045906067],\n",
       " 'sparse_categorical_accuracy': [0.9561166763305664,\n",
       "  0.986549973487854,\n",
       "  0.9901000261306763,\n",
       "  0.9922333359718323,\n",
       "  0.9939333200454712],\n",
       " 'val_loss': [0.05266149342060089,\n",
       "  0.032561294734478,\n",
       "  0.043362539261579514,\n",
       "  0.037802018225193024,\n",
       "  0.03034098446369171],\n",
       " 'val_sparse_categorical_accuracy': [0.9821000099182129,\n",
       "  0.9894000291824341,\n",
       "  0.9864000082015991,\n",
       "  0.9876999855041504,\n",
       "  0.9898999929428101]}"
      ]
     },
     "execution_count": 6,
     "metadata": {},
     "output_type": "execute_result"
    }
   ],
   "source": [
    "history.history"
   ]
  },
  {
   "cell_type": "code",
   "execution_count": 7,
   "id": "4e0955f3",
   "metadata": {},
   "outputs": [
    {
     "data": {
      "image/png": "[encoded data removed]",
      "text/plain": [
       "<Figure size 432x288 with 1 Axes>"
      ]
     },
     "metadata": {
      "needs_background": "light"
     },
     "output_type": "display_data"
    }
   ],
   "source": [
    "plt.plot(history.history['sparse_categorical_accuracy'],label='acc')\n",
    "plt.plot(history.history['val_sparse_categorical_accuracy'],label='val_acc')\n",
    "plt.xlabel('epoch')\n",
    "plt.ylabel('accuracy')\n",
    "plt.legend(loc='lower right')\n",
    "plt.title('history accuracy')\n",
    "plt.show()"
   ]
  },
  {
   "cell_type": "code",
   "execution_count": null,
   "id": "d39e8724",
   "metadata": {},
   "outputs": [],
   "source": []
  }
 ],
 "metadata": {
  "kernelspec": {
   "display_name": "Python 3",
   "language": "python",
   "name": "python3"
  },
  "language_info": {
   "codemirror_mode": {
    "name": "ipython",
    "version": 3
   },
   "file_extension": ".py",
   "mimetype": "text/x-python",
   "name": "python",
   "nbconvert_exporter": "python",
   "pygments_lexer": "ipython3",
   "version": "3.6.8"
  }
 },
 "nbformat": 4,
 "nbformat_minor": 5
}
