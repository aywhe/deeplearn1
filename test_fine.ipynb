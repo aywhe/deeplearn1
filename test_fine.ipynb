{
 "cells": [
  {
   "cell_type": "code",
   "execution_count": 1,
   "id": "1ce1c1df",
   "metadata": {},
   "outputs": [],
   "source": [
    "import tensorflow as tf\n",
    "import matplotlib.pyplot as plt\n",
    "import numpy as np\n",
    "import os\n",
    "from tensorflow.keras.preprocessing import image_dataset_from_directory"
   ]
  },
  {
   "cell_type": "code",
   "execution_count": 2,
   "id": "f5e2229f",
   "metadata": {},
   "outputs": [],
   "source": [
    "_URL = 'https://storage.googleapis.com/mledu-datasets/cats_and_dogs_filtered.zip'\n",
    "path_to_zip = tf.keras.utils.get_file('cats_and_dogs.zip',origin=_URL,extract=True)\n",
    "# tf.keras.utils.get_file has done so much that all files in zip are extracted to subfolders where they would be\n",
    "PATH = os.path.join(os.path.dirname(path_to_zip), 'cats_and_dogs_filtered')\n",
    "train_dir = os.path.join(PATH, 'train')\n",
    "validation_dir = os.path.join(PATH, 'validation')"
   ]
  },
  {
   "cell_type": "code",
   "execution_count": 3,
   "id": "671bef32",
   "metadata": {},
   "outputs": [
    {
     "name": "stdout",
     "output_type": "stream",
     "text": [
      "Found 2000 files belonging to 2 classes.\n",
      "Found 1000 files belonging to 2 classes.\n"
     ]
    }
   ],
   "source": [
    "BATCH_SIZE = 32\n",
    "IMG_SIZE = (160, 160)\n",
    "\n",
    "train_dataset = image_dataset_from_directory(train_dir,\n",
    "                                             shuffle=True,\n",
    "                                             batch_size=BATCH_SIZE,\n",
    "                                             image_size=IMG_SIZE)\n",
    "validation_dataset = image_dataset_from_directory(validation_dir,\n",
    "                                                  shuffle=True,\n",
    "                                                  batch_size=BATCH_SIZE,\n",
    "                                                  image_size=IMG_SIZE)\n",
    "val_batches = tf.data.experimental.cardinality(validation_dataset)\n",
    "test_dataset = validation_dataset.take(val_batches // 5)\n",
    "validation_dataset = validation_dataset.skip(val_batches // 5)"
   ]
  },
  {
   "cell_type": "code",
   "execution_count": 4,
   "id": "b1e667e2",
   "metadata": {},
   "outputs": [
    {
     "data": {
      "text/plain": [
       "<BatchDataset shapes: ((None, 160, 160, 3), (None,)), types: (tf.float32, tf.int32)>"
      ]
     },
     "execution_count": 4,
     "metadata": {},
     "output_type": "execute_result"
    }
   ],
   "source": [
    "train_dataset"
   ]
  },
  {
   "cell_type": "code",
   "execution_count": 5,
   "id": "866620d8",
   "metadata": {},
   "outputs": [],
   "source": [
    "train_dataset = train_dataset.prefetch(buffer_size=tf.data.AUTOTUNE)\n",
    "validation_dataset = validation_dataset.prefetch(buffer_size=tf.data.AUTOTUNE)\n",
    "test_dataset = test_dataset.prefetch(buffer_size=tf.data.AUTOTUNE)"
   ]
  },
  {
   "cell_type": "code",
   "execution_count": 10,
   "id": "c0018b72",
   "metadata": {},
   "outputs": [],
   "source": [
    "IMG_SHAPE = IMG_SIZE + (3,)\n",
    "# load mobilenetv2 without top layers\n",
    "base_model = tf.keras.applications.MobileNetV2(input_shape=IMG_SHAPE,\n",
    "                                               include_top=False,\n",
    "                                               weights='imagenet')\n",
    "base_model.trainable = False # the model is not trainable"
   ]
  },
  {
   "cell_type": "code",
   "execution_count": 7,
   "id": "d1d638a6",
   "metadata": {},
   "outputs": [
    {
     "data": {
      "text/plain": [
       "'image_batch, label_batch = next(iter(train_dataset))\\nfeature_batch = base_model(image_batch)\\nprint(feature_batch.shape)'"
      ]
     },
     "execution_count": 7,
     "metadata": {},
     "output_type": "execute_result"
    }
   ],
   "source": [
    "# image_batch, label_batch = next(iter(train_dataset))\n",
    "# feature_batch = base_model(image_batch)\n",
    "# print(feature_batch.shape)'''"
   ]
  },
  {
   "cell_type": "code",
   "execution_count": 11,
   "id": "874bf5a7",
   "metadata": {},
   "outputs": [
    {
     "name": "stdout",
     "output_type": "stream",
     "text": [
      "Model: \"model_1\"\n",
      "_________________________________________________________________\n",
      "Layer (type)                 Output Shape              Param #   \n",
      "=================================================================\n",
      "input_4 (InputLayer)         [(None, 160, 160, 3)]     0         \n",
      "_________________________________________________________________\n",
      "random_flip_1 (RandomFlip)   (None, 160, 160, 3)       0         \n",
      "_________________________________________________________________\n",
      "random_rotation_1 (RandomRot (None, 160, 160, 3)       0         \n",
      "_________________________________________________________________\n",
      "random_zoom_1 (RandomZoom)   (None, 160, 160, 3)       0         \n",
      "_________________________________________________________________\n",
      "rescaling_1 (Rescaling)      (None, 160, 160, 3)       0         \n",
      "_________________________________________________________________\n",
      "mobilenetv2_1.00_160 (Functi (None, 5, 5, 1280)        2257984   \n",
      "_________________________________________________________________\n",
      "global_average_pooling2d_1 ( (None, 1280)              0         \n",
      "_________________________________________________________________\n",
      "dropout_1 (Dropout)          (None, 1280)              0         \n",
      "_________________________________________________________________\n",
      "dense_1 (Dense)              (None, 1)                 1281      \n",
      "=================================================================\n",
      "Total params: 2,259,265\n",
      "Trainable params: 1,281\n",
      "Non-trainable params: 2,257,984\n",
      "_________________________________________________________________\n"
     ]
    }
   ],
   "source": [
    "inputs = tf.keras.Input(shape=(160, 160, 3))\n",
    "x = tf.keras.layers.RandomFlip('horizontal')(inputs)\n",
    "x = tf.keras.layers.RandomRotation(0.2)(x)\n",
    "x = tf.keras.layers.RandomZoom(0.1)(x)\n",
    "x = tf.keras.layers.Rescaling(1./127.5,offset=-1)(x)\n",
    "x = base_model(x, training=False)  # batch normalization  will not update\n",
    "x = tf.keras.layers.GlobalAveragePooling2D()(x)\n",
    "x = tf.keras.layers.Dropout(0.2)(x)\n",
    "outputs = tf.keras.layers.Dense(1)(x)\n",
    "model = tf.keras.Model(inputs, outputs)\n",
    "model.summary()"
   ]
  },
  {
   "cell_type": "code",
   "execution_count": 14,
   "id": "3d18d71f",
   "metadata": {},
   "outputs": [],
   "source": [
    "base_learning_rate = 0.0001\n",
    "model.compile(optimizer=tf.keras.optimizers.Adam(learning_rate=base_learning_rate),\n",
    "              loss=tf.keras.losses.BinaryCrossentropy(from_logits=True),\n",
    "              metrics=['accuracy'])"
   ]
  },
  {
   "cell_type": "code",
   "execution_count": 15,
   "id": "025e365e",
   "metadata": {},
   "outputs": [
    {
     "name": "stdout",
     "output_type": "stream",
     "text": [
      "Epoch 1/10\n",
      "63/63 [==============================] - 55s 761ms/step - loss: 0.2018 - accuracy: 0.9100 - val_loss: 0.0907 - val_accuracy: 0.9666\n",
      "Epoch 2/10\n",
      "63/63 [==============================] - 53s 845ms/step - loss: 0.1913 - accuracy: 0.9190 - val_loss: 0.0917 - val_accuracy: 0.9678\n",
      "Epoch 3/10\n",
      "63/63 [==============================] - 54s 846ms/step - loss: 0.1781 - accuracy: 0.9245 - val_loss: 0.0861 - val_accuracy: 0.9666\n",
      "Epoch 4/10\n",
      "63/63 [==============================] - 53s 845ms/step - loss: 0.1810 - accuracy: 0.9235 - val_loss: 0.0800 - val_accuracy: 0.9703\n",
      "Epoch 5/10\n",
      "63/63 [==============================] - 40s 640ms/step - loss: 0.1762 - accuracy: 0.9155 - val_loss: 0.0789 - val_accuracy: 0.9740\n",
      "Epoch 6/10\n",
      "63/63 [==============================] - 42s 667ms/step - loss: 0.1833 - accuracy: 0.9120 - val_loss: 0.0753 - val_accuracy: 0.9740\n",
      "Epoch 7/10\n",
      "63/63 [==============================] - 44s 699ms/step - loss: 0.1707 - accuracy: 0.9240 - val_loss: 0.0774 - val_accuracy: 0.9728\n",
      "Epoch 8/10\n",
      "63/63 [==============================] - 48s 756ms/step - loss: 0.1545 - accuracy: 0.9305 - val_loss: 0.0778 - val_accuracy: 0.9678\n",
      "Epoch 9/10\n",
      "63/63 [==============================] - 52s 813ms/step - loss: 0.1654 - accuracy: 0.9245 - val_loss: 0.0676 - val_accuracy: 0.9777\n",
      "Epoch 10/10\n",
      "63/63 [==============================] - 38s 598ms/step - loss: 0.1625 - accuracy: 0.9350 - val_loss: 0.0637 - val_accuracy: 0.9814\n"
     ]
    }
   ],
   "source": [
    "history = model.fit(train_dataset,\n",
    "                    epochs=10,\n",
    "                    validation_data=validation_dataset)"
   ]
  },
  {
   "cell_type": "code",
   "execution_count": 16,
   "id": "39f9ffc0",
   "metadata": {},
   "outputs": [
    {
     "data": {
      "image/png": "[encoded data removed]",
      "text/plain": [
       "<Figure size 576x576 with 2 Axes>"
      ]
     },
     "metadata": {
      "needs_background": "light"
     },
     "output_type": "display_data"
    }
   ],
   "source": [
    "def viewHistory(history):\n",
    "    acc = history.history['accuracy']\n",
    "    val_acc = history.history['val_accuracy']\n",
    "\n",
    "    loss = history.history['loss']\n",
    "    val_loss = history.history['val_loss']\n",
    "\n",
    "    plt.figure(figsize=(8, 8))\n",
    "    plt.subplot(2, 1, 1)\n",
    "    plt.plot(acc, label='Training Accuracy')\n",
    "    plt.plot(val_acc, label='Validation Accuracy')\n",
    "    plt.legend(loc='lower right')\n",
    "    plt.ylabel('Accuracy')\n",
    "    plt.ylim([min(plt.ylim()),1])\n",
    "    plt.title('Training and Validation Accuracy')\n",
    "\n",
    "    plt.subplot(2, 1, 2)\n",
    "    plt.plot(loss, label='Training Loss')\n",
    "    plt.plot(val_loss, label='Validation Loss')\n",
    "    plt.legend(loc='upper right')\n",
    "    plt.ylabel('Cross Entropy')\n",
    "    plt.ylim([0,1.0])\n",
    "    plt.title('Training and Validation Loss')\n",
    "    plt.xlabel('epoch')\n",
    "    plt.show()\n",
    "\n",
    "viewHistory(history)"
   ]
  },
  {
   "cell_type": "code",
   "execution_count": null,
   "id": "76911acf",
   "metadata": {},
   "outputs": [
    {
     "name": "stdout",
     "output_type": "stream",
     "text": [
      "Number of layers in the base model:  154\n",
      "Epoch 10/19\n",
      "63/63 [==============================] - 78s 1s/step - loss: 0.0930 - accuracy: 0.9585 - val_loss: 0.0321 - val_accuracy: 0.9876\n",
      "Epoch 11/19\n",
      "63/63 [==============================] - 58s 916ms/step - loss: 0.0738 - accuracy: 0.9715 - val_loss: 0.0291 - val_accuracy: 0.9901\n",
      "Epoch 12/19\n",
      "63/63 [==============================] - ETA: 0s - loss: 0.0857 - accuracy: 0.9635"
     ]
    }
   ],
   "source": [
    "print(\"Number of layers in the base model: \", len(base_model.layers))\n",
    "base_model.trainable = True\n",
    "fine_tune_at = 100\n",
    "# Freeze all the layers before the `fine_tune_at` layer\n",
    "for layer in base_model.layers[:fine_tune_at]:\n",
    "  layer.trainable =  False\n",
    "model.compile(loss=tf.keras.losses.BinaryCrossentropy(from_logits=True),\n",
    "              optimizer = tf.keras.optimizers.RMSprop(learning_rate=base_learning_rate/10),\n",
    "              metrics=['accuracy'])\n",
    "history_fine = model.fit(train_dataset,\n",
    "                         epochs=history.epoch[-1]+10,\n",
    "                         initial_epoch=history.epoch[-1],\n",
    "                         validation_data=validation_dataset)\n",
    "viewHistory(history_fine)"
   ]
  },
  {
   "cell_type": "code",
   "execution_count": null,
   "id": "b76b96f0",
   "metadata": {},
   "outputs": [],
   "source": []
  }
 ],
 "metadata": {
  "kernelspec": {
   "display_name": "Python 3",
   "language": "python",
   "name": "python3"
  },
  "language_info": {
   "codemirror_mode": {
    "name": "ipython",
    "version": 3
   },
   "file_extension": ".py",
   "mimetype": "text/x-python",
   "name": "python",
   "nbconvert_exporter": "python",
   "pygments_lexer": "ipython3",
   "version": "3.6.8"
  }
 },
 "nbformat": 4,
 "nbformat_minor": 5
}
